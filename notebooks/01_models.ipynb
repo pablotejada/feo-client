{
 "cells": [
  {
   "cell_type": "markdown",
   "id": "07180c6a-65c3-4a19-8faa-c19fd382492d",
   "metadata": {},
   "source": [
    "# Future Energy Outlook - Models"
   ]
  },
  {
   "cell_type": "markdown",
   "id": "851c73e7-b02a-4f86-a81f-0e0e6eec5ded",
   "metadata": {},
   "source": [
    "This notebook introduces FEO's `Model` class. A FEO _Model_ (short for 'Systems Model') sets the scope and boundaries of an workflow using the FEO platform. A FEO model is scoped with the following properties:\n",
    "- **sectors**: a list of sectors covered by the FEO platform, e.g. 'power', or 'land'.\n",
    "- **nodes**: a list of nodes, corresponding to a geographical unit (like a country or state/province), a grid-region, or even a physical asset.\n",
    "- **links**: a list of links between nodes, which allow the transmission or flow of a given commodity. These links might represent, as an example, interconnectors between grid regions.\n",
    "- **time_scope**: the time definition of the model. Sometimes, instead of contiguous time, models are defined with representative time-slices, trading temporal-fidelity for longer time horizons or model complexity."
   ]
  },
  {
   "cell_type": "markdown",
   "id": "3e17db19-277b-4508-9ce6-ee40b4a49cec",
   "metadata": {},
   "source": [
    "FEO Models also have some identifying nameplate data, including:\n",
    "- **uuid**: a unique unit ID for the model used by the FEO platform.\n",
    "- **name**: a descriptive name for the model.\n",
    "- **slug**: a url-parseable representation of the model name, useful for link sharing and human-readability \n",
    "- **version**: the version hash of the model, allowing full reproduceability."
   ]
  },
  {
   "cell_type": "markdown",
   "id": "3ad672bc-2343-4902-854f-ac7c3d2a51d6",
   "metadata": {},
   "source": [
    "Lastly, users can share their FEO Models. FEO Models have the following properties for access control and sharing:\n",
    "- **owner_id**: The user-id associated with the model\n",
    "- **public**: Whether or not a FEO model can be be publicly accessed."
   ]
  },
  {
   "cell_type": "markdown",
   "id": "c2a404ae-1e5d-4924-820b-85b35ca6e23a",
   "metadata": {},
   "source": [
    "This notebook shows how to use the FEO client to create, update, and delete `Model` objects."
   ]
  },
  {
   "cell_type": "markdown",
   "id": "76d79c3e-2f4e-48ab-a258-b438f1462086",
   "metadata": {},
   "source": [
    "### Authenticating the FEO Client"
   ]
  },
  {
   "cell_type": "markdown",
   "id": "6c3add72-74a5-4897-bbe6-ed9a5a39aee6",
   "metadata": {},
   "source": [
    "The FEO client is packaged with a commandline utility for special operations with the FEO platform like logging in. To log in to the FEO platform from your device, use the command-line login utility:\n",
    "\n",
    "    feo auth login\n",
    "    \n",
    "More information can be found in the [quickstart guide.](link)"
   ]
  },
  {
   "cell_type": "markdown",
   "id": "dc743296-5bf6-4168-b913-0fff3787e435",
   "metadata": {},
   "source": [
    "### Using the FEO client"
   ]
  },
  {
   "cell_type": "markdown",
   "id": "97df4c0d-c0aa-47c7-904b-c951264f7680",
   "metadata": {},
   "source": [
    "First, load the object-oriented `Model` client."
   ]
  },
  {
   "cell_type": "code",
   "execution_count": null,
   "id": "e61097a0-61e2-424e-b523-60bc179b45c7",
   "metadata": {},
   "outputs": [],
   "source": [
    "from feo.client import Model"
   ]
  },
  {
   "cell_type": "markdown",
   "id": "c5133855-d042-44b1-a37a-95686d8388b9",
   "metadata": {},
   "source": [
    "The `Model` client can be used to search the FEO platform and instantiate copies of itself."
   ]
  },
  {
   "cell_type": "markdown",
   "id": "916ab323-2c6d-413c-833f-719c4c892849",
   "metadata": {},
   "source": [
    "#### Searching for Models"
   ]
  },
  {
   "cell_type": "markdown",
   "id": "7b6c8f6c-df06-428e-8d4d-9cdbc1d1290a",
   "metadata": {},
   "source": [
    "Models can be searched using the `.search` method. This method has the following parameters:\n",
    "    \n",
    "    public: bool\n",
    "        Models can be filtered according to wethey they are public.\n",
    "    owner: str\n",
    "        Models can be searched for from a specific author.\n",
    "    page: int\n",
    "        Set the page offset for the search results\n",
    "    limit: int\n",
    "        Set the number of search results to be returned (max: XX)"
   ]
  },
  {
   "cell_type": "code",
   "execution_count": null,
   "id": "dfe646d7-e64f-4598-9e28-63103969a766",
   "metadata": {},
   "outputs": [],
   "source": [
    "search_results = Model.search(public=True)"
   ]
  },
  {
   "cell_type": "code",
   "execution_count": null,
   "id": "c0b616e7-2847-4abe-99f0-6e655b2669d2",
   "metadata": {},
   "outputs": [],
   "source": [
    "for model in search_results:\n",
    "    print (model.uuid, model.name)"
   ]
  },
  {
   "cell_type": "markdown",
   "id": "f0291af5-08fe-4e46-8e6b-c3e63841f84e",
   "metadata": {},
   "source": [
    "#### Creating a new model"
   ]
  },
  {
   "cell_type": "markdown",
   "id": "ee1a12ee-34fa-4d1c-a074-06cca47a29e2",
   "metadata": {},
   "source": [
    "A new model can be constructed in-memory simply by calling the client object."
   ]
  },
  {
   "cell_type": "code",
   "execution_count": null,
   "id": "682442e7-357f-42a4-9fc8-bf6219b0d408",
   "metadata": {},
   "outputs": [],
   "source": [
    "my_model = Model(\n",
    "    name=\"My new Model\",\n",
    "    sectors=[\"power\"],\n",
    "    time_scope={\n",
    "        \"years\":[2025,2030],\n",
    "        \"year-parts\":6,\n",
    "        \"day-parts\":24,\n",
    "    },\n",
    "    version=\"0.01\",\n",
    "    node_ids=[\"IND-NE\",\"IND-EA\",\"IND-NO\"],\n",
    "    link_ids=[\"IND-NE:IND-EA\",\"IND-NE:IND-NO\",\"IND-EA:IND-NO\"],\n",
    ")"
   ]
  },
  {
   "cell_type": "markdown",
   "id": "546a5c3e-88bb-4f4f-85da-d661288b6937",
   "metadata": {},
   "source": [
    "For simplicity, instead of `node_ids` and `link_ids`, a model can be specified by its `geography` and `node_level`. For example, to obtain a model of the 16 federal states of Germany, i.e. resolved at the 'admin-1' (i.e. state/province) level, the geography of `germany` can be supplied, with the node_level of `admin_1`.\n",
    "\n",
    "The Model client will find the node corresponding to the `geography` alias, and will specify the model with the children of this node at the specified `node_level`."
   ]
  },
  {
   "cell_type": "code",
   "execution_count": null,
   "id": "89270cc8-d9b0-4f3d-bd52-c94a4579df29",
   "metadata": {},
   "outputs": [],
   "source": [
    "my_deu_model = Model(\n",
    "    name=\"My German Model\",\n",
    "    sectors=[\"power\"],\n",
    "    time_scope={\n",
    "        \"years\":[2025,2030],\n",
    "        \"year-parts\":6,\n",
    "        \"day-parts\":24,\n",
    "    },\n",
    "    version=\"0.01\",\n",
    "    geography=\"germany\",\n",
    "    node_level=\"admin_1\",\n",
    ")"
   ]
  },
  {
   "cell_type": "markdown",
   "id": "ed042e37-7af3-4cd6-b467-7b366bb14be9",
   "metadata": {},
   "source": [
    "#### Saving your model to the FEO platform"
   ]
  },
  {
   "cell_type": "markdown",
   "id": "b7b7edc9-64a3-41b6-9ff5-c1500a25b989",
   "metadata": {},
   "source": [
    "If you've just created your model, it is not yet synced with the FEO platform. To save your model, use the `.save` method. You model will then have a `uuid` and `slug` provided by the FEO platform."
   ]
  },
  {
   "cell_type": "code",
   "execution_count": null,
   "id": "cb86c237-c111-4ae2-8c8b-98ea8326a48b",
   "metadata": {},
   "outputs": [],
   "source": [
    "print (my_deu_model.uuid, my_deu_model.slug)\n",
    "my_deu_model.save()\n",
    "print (my_deu_model.uuid, my_deu_model.slug)"
   ]
  },
  {
   "cell_type": "markdown",
   "id": "276cff10-8d26-4fc3-b159-2f45e931dd89",
   "metadata": {},
   "source": [
    "#### Editing your model\n",
    "If your model doesn't have any dependent object yet (i.e. any `scenarios` or `runs`), it can still be editted. Simply change your desired parameter and then `.save` again."
   ]
  },
  {
   "cell_type": "code",
   "execution_count": null,
   "id": "cbf81235-d2b3-4591-b0e9-b333fee53aa0",
   "metadata": {},
   "outputs": [],
   "source": [
    "my_deu_model.time_scope['years'].append(2035)\n",
    "my_deu_model.save()\n",
    "print (my_deu_model.time_scope['years'])"
   ]
  },
  {
   "cell_type": "markdown",
   "id": "f70924d5-2c98-473c-8515-bdd1013b8f2e",
   "metadata": {},
   "source": [
    "#### Copying a model"
   ]
  },
  {
   "cell_type": "markdown",
   "id": "00c5ea40-df2c-4d3c-8cb6-a0b67250d40c",
   "metadata": {},
   "source": [
    "You may find a public model by another author that you want to build on top of. You cannot build directly on top of another user's model, but you can copy their model to your own version. Use the `.copy` method to acheive this.\n",
    "Don't forget to save your model!"
   ]
  },
  {
   "cell_type": "code",
   "execution_count": null,
   "id": "d9143755-fd37-4464-bd76-91ca0abca1b9",
   "metadata": {},
   "outputs": [],
   "source": [
    "my_copied_model = search_results[0].copy()\n",
    "my_copied_model.save()"
   ]
  }
 ],
 "metadata": {
  "kernelspec": {
   "display_name": "Python (feo-client)",
   "language": "python",
   "name": "feo-client"
  },
  "language_info": {
   "codemirror_mode": {
    "name": "ipython",
    "version": 3
   },
   "file_extension": ".py",
   "mimetype": "text/x-python",
   "name": "python",
   "nbconvert_exporter": "python",
   "pygments_lexer": "ipython3",
   "version": "3.9.16"
  }
 },
 "nbformat": 4,
 "nbformat_minor": 5
}
