{
 "cells": [
  {
   "cell_type": "markdown",
   "metadata": {},
   "source": [
    "# Future Energy Outlook - Records"
   ]
  },
  {
   "cell_type": "code",
   "execution_count": 1,
   "metadata": {},
   "outputs": [],
   "source": [
    "%reload_ext autoreload\n",
    "%autoreload 2"
   ]
  },
  {
   "cell_type": "markdown",
   "metadata": {},
   "source": [
    "If developing locally, ensure that the `FEO_API_URL` environment variable is correctly set:"
   ]
  },
  {
   "cell_type": "code",
   "execution_count": 2,
   "metadata": {},
   "outputs": [],
   "source": [
    "import os\n",
    "\n",
    "os.environ[\"FEO_API_URL\"] = \"http://127.0.0.1:8080\""
   ]
  },
  {
   "cell_type": "markdown",
   "metadata": {},
   "source": [
    "### Searching for and fetching records\n",
    "\n",
    "We can search for different types of `Record`. A record represents the values of a particular time-series variables in a specific time interval.\n",
    "\n",
    "For instance, it could represent the electricity generation of a particular power unit or capital expenditure on a new or existing asset."
   ]
  },
  {
   "cell_type": "markdown",
   "metadata": {},
   "source": [
    "To get started, all we need to do is to search for records:"
   ]
  },
  {
   "cell_type": "code",
   "execution_count": 3,
   "metadata": {},
   "outputs": [],
   "source": [
    "from feo.client import Record\n",
    "\n",
    "record_result = Record.search(node_id=\"BRN\", datum_detail=\"power.BIO.capex\")"
   ]
  },
  {
   "cell_type": "markdown",
   "metadata": {},
   "source": [
    "Let's see how many records we got back:"
   ]
  },
  {
   "cell_type": "code",
   "execution_count": 4,
   "metadata": {},
   "outputs": [
    {
     "data": {
      "text/plain": [
       "11"
      ]
     },
     "execution_count": 4,
     "metadata": {},
     "output_type": "execute_result"
    }
   ],
   "source": [
    "len(record_result)"
   ]
  },
  {
   "cell_type": "markdown",
   "metadata": {},
   "source": [
    "The overall object we get back is a `RecordCollection`."
   ]
  },
  {
   "cell_type": "code",
   "execution_count": 5,
   "metadata": {},
   "outputs": [
    {
     "data": {
      "text/plain": [
       "RecordCollection(records=[Record(node_id='BRN', datum_type='technology_parameter', datum_detail='power.BIO.capex', source_id=1, source_node_id=None, target_node_id=None, valid_timestamp_start='2040-01-01T00:00:00', valid_timestamp_end='2050-12-31T00:00:00', value=1555.0, unit='US$mn/GW', properties={}, public=True, timestamp='2023-08-15T18:35:00.953050'), Record(node_id='BRN', datum_type='technology_parameter', datum_detail='power.BIO.capex', source_id=1, source_node_id=None, target_node_id=None, valid_timestamp_start='2039-01-01T00:00:00', valid_timestamp_end='2039-12-31T00:00:00', value=1570.5, unit='US$mn/GW', properties={}, public=True, timestamp='2023-08-15T18:35:00.953462'), Record(node_id='BRN', datum_type='technology_parameter', datum_detail='power.BIO.capex', source_id=1, source_node_id=None, target_node_id=None, valid_timestamp_start='2038-01-01T00:00:00', valid_timestamp_end='2038-12-31T00:00:00', value=1586.0, unit='US$mn/GW', properties={}, public=True, timestamp='2023-08-15T18:35:00.953770'), Record(node_id='BRN', datum_type='technology_parameter', datum_detail='power.BIO.capex', source_id=1, source_node_id=None, target_node_id=None, valid_timestamp_start='2037-01-01T00:00:00', valid_timestamp_end='2037-12-31T00:00:00', value=1601.5, unit='US$mn/GW', properties={}, public=True, timestamp='2023-08-15T18:35:00.954080'), Record(node_id='BRN', datum_type='technology_parameter', datum_detail='power.BIO.capex', source_id=1, source_node_id=None, target_node_id=None, valid_timestamp_start='2036-01-01T00:00:00', valid_timestamp_end='2036-12-31T00:00:00', value=1617.0, unit='US$mn/GW', properties={}, public=True, timestamp='2023-08-15T18:35:00.954362'), Record(node_id='BRN', datum_type='technology_parameter', datum_detail='power.BIO.capex', source_id=1, source_node_id=None, target_node_id=None, valid_timestamp_start='2035-01-01T00:00:00', valid_timestamp_end='2035-12-31T00:00:00', value=1632.5, unit='US$mn/GW', properties={}, public=True, timestamp='2023-08-15T18:35:00.954629'), Record(node_id='BRN', datum_type='technology_parameter', datum_detail='power.BIO.capex', source_id=1, source_node_id=None, target_node_id=None, valid_timestamp_start='2034-01-01T00:00:00', valid_timestamp_end='2034-12-31T00:00:00', value=1648.0, unit='US$mn/GW', properties={}, public=True, timestamp='2023-08-15T18:35:00.954895'), Record(node_id='BRN', datum_type='technology_parameter', datum_detail='power.BIO.capex', source_id=1, source_node_id=None, target_node_id=None, valid_timestamp_start='2033-01-01T00:00:00', valid_timestamp_end='2033-12-31T00:00:00', value=1663.5, unit='US$mn/GW', properties={}, public=True, timestamp='2023-08-15T18:35:00.955163'), Record(node_id='BRN', datum_type='technology_parameter', datum_detail='power.BIO.capex', source_id=1, source_node_id=None, target_node_id=None, valid_timestamp_start='2032-01-01T00:00:00', valid_timestamp_end='2032-12-31T00:00:00', value=1679.0, unit='US$mn/GW', properties={}, public=True, timestamp='2023-08-15T18:35:00.955431'), Record(node_id='BRN', datum_type='technology_parameter', datum_detail='power.BIO.capex', source_id=1, source_node_id=None, target_node_id=None, valid_timestamp_start='2031-01-01T00:00:00', valid_timestamp_end='2031-12-31T00:00:00', value=1694.5, unit='US$mn/GW', properties={}, public=True, timestamp='2023-08-15T18:35:00.955682'), Record(node_id='BRN', datum_type='technology_parameter', datum_detail='power.BIO.capex', source_id=1, source_node_id=None, target_node_id=None, valid_timestamp_start='2021-01-01T00:00:00', valid_timestamp_end='2030-12-31T00:00:00', value=1710.0, unit='US$mn/GW', properties={}, public=True, timestamp='2023-08-15T18:35:00.955952')], next_page=None, search_params=RecordSearchParams(node_id='BRN', node_type=None, datum_type=None, datum_detail='power.BIO.capex', valid_timestamp_start=None, valid_timestamp_end=None, page=None))"
      ]
     },
     "execution_count": 5,
     "metadata": {},
     "output_type": "execute_result"
    }
   ],
   "source": [
    "record_result"
   ]
  },
  {
   "cell_type": "markdown",
   "metadata": {},
   "source": [
    "And we can also look through those results, using an index:"
   ]
  },
  {
   "cell_type": "code",
   "execution_count": 6,
   "metadata": {},
   "outputs": [
    {
     "data": {
      "text/plain": [
       "Record(node_id='BRN', datum_type='technology_parameter', datum_detail='power.BIO.capex', source_id=1, source_node_id=None, target_node_id=None, valid_timestamp_start='2040-01-01T00:00:00', valid_timestamp_end='2050-12-31T00:00:00', value=1555.0, unit='US$mn/GW', properties={}, public=True, timestamp='2023-08-15T18:35:00.953050')"
      ]
     },
     "execution_count": 6,
     "metadata": {},
     "output_type": "execute_result"
    }
   ],
   "source": [
    "record_result[0]"
   ]
  },
  {
   "cell_type": "markdown",
   "metadata": {},
   "source": [
    "We can convert the list of individual records into a dataframe, using the `to_dataframe` method on the `RecordCollection` object:"
   ]
  },
  {
   "cell_type": "code",
   "execution_count": 7,
   "metadata": {},
   "outputs": [],
   "source": [
    "record_df = record_result.to_dataframe()"
   ]
  },
  {
   "cell_type": "code",
   "execution_count": 8,
   "metadata": {},
   "outputs": [
    {
     "data": {
      "text/plain": [
       "node_id                          object\n",
       "datum_type                       object\n",
       "datum_detail                     object\n",
       "source_id                         int64\n",
       "source_node_id                   object\n",
       "target_node_id                   object\n",
       "valid_timestamp_start    datetime64[ns]\n",
       "valid_timestamp_end      datetime64[ns]\n",
       "value                           float64\n",
       "unit                             object\n",
       "properties                       object\n",
       "public                             bool\n",
       "timestamp                datetime64[ns]\n",
       "dtype: object"
      ]
     },
     "execution_count": 8,
     "metadata": {},
     "output_type": "execute_result"
    }
   ],
   "source": [
    "record_df.dtypes"
   ]
  },
  {
   "cell_type": "markdown",
   "metadata": {},
   "source": [
    "Instead of using the general `Record` object, we can instead using a more specific type:\n",
    "- `TechnologyParameter`\n",
    "- `Generation`\n",
    "- `Price`\n",
    "- `Event`\n",
    "- `LandCover`"
   ]
  },
  {
   "cell_type": "code",
   "execution_count": 9,
   "metadata": {},
   "outputs": [],
   "source": [
    "from feo.client import TechnologyParameter"
   ]
  },
  {
   "cell_type": "code",
   "execution_count": 10,
   "metadata": {},
   "outputs": [],
   "source": [
    "tech_param_result = TechnologyParameter.search(node_id=\"BRN\")"
   ]
  },
  {
   "cell_type": "markdown",
   "metadata": {},
   "source": [
    "It works in the same way as the `Record`:"
   ]
  },
  {
   "cell_type": "code",
   "execution_count": 11,
   "metadata": {},
   "outputs": [
    {
     "name": "stdout",
     "output_type": "stream",
     "text": [
      "505\n"
     ]
    }
   ],
   "source": [
    "print(len(tech_param_result))"
   ]
  },
  {
   "cell_type": "code",
   "execution_count": 12,
   "metadata": {},
   "outputs": [
    {
     "data": {
      "text/html": [
       "<div>\n",
       "<style scoped>\n",
       "    .dataframe tbody tr th:only-of-type {\n",
       "        vertical-align: middle;\n",
       "    }\n",
       "\n",
       "    .dataframe tbody tr th {\n",
       "        vertical-align: top;\n",
       "    }\n",
       "\n",
       "    .dataframe thead th {\n",
       "        text-align: right;\n",
       "    }\n",
       "</style>\n",
       "<table border=\"1\" class=\"dataframe\">\n",
       "  <thead>\n",
       "    <tr style=\"text-align: right;\">\n",
       "      <th></th>\n",
       "      <th>node_id</th>\n",
       "      <th>datum_type</th>\n",
       "      <th>datum_detail</th>\n",
       "      <th>source_id</th>\n",
       "      <th>source_node_id</th>\n",
       "      <th>target_node_id</th>\n",
       "      <th>valid_timestamp_start</th>\n",
       "      <th>valid_timestamp_end</th>\n",
       "      <th>value</th>\n",
       "      <th>unit</th>\n",
       "      <th>properties</th>\n",
       "      <th>public</th>\n",
       "      <th>timestamp</th>\n",
       "    </tr>\n",
       "  </thead>\n",
       "  <tbody>\n",
       "    <tr>\n",
       "      <th>0</th>\n",
       "      <td>BRN</td>\n",
       "      <td>technology_parameter</td>\n",
       "      <td>power.BIO.capex</td>\n",
       "      <td>1</td>\n",
       "      <td>None</td>\n",
       "      <td>None</td>\n",
       "      <td>2040-01-01</td>\n",
       "      <td>2050-12-31</td>\n",
       "      <td>1555.00</td>\n",
       "      <td>US$mn/GW</td>\n",
       "      <td>{}</td>\n",
       "      <td>True</td>\n",
       "      <td>2023-08-15 18:35:00.953050</td>\n",
       "    </tr>\n",
       "    <tr>\n",
       "      <th>1</th>\n",
       "      <td>BRN</td>\n",
       "      <td>technology_parameter</td>\n",
       "      <td>power.BIO.capex</td>\n",
       "      <td>1</td>\n",
       "      <td>None</td>\n",
       "      <td>None</td>\n",
       "      <td>2039-01-01</td>\n",
       "      <td>2039-12-31</td>\n",
       "      <td>1570.50</td>\n",
       "      <td>US$mn/GW</td>\n",
       "      <td>{}</td>\n",
       "      <td>True</td>\n",
       "      <td>2023-08-15 18:35:00.953462</td>\n",
       "    </tr>\n",
       "    <tr>\n",
       "      <th>2</th>\n",
       "      <td>BRN</td>\n",
       "      <td>technology_parameter</td>\n",
       "      <td>power.BIO.capex</td>\n",
       "      <td>1</td>\n",
       "      <td>None</td>\n",
       "      <td>None</td>\n",
       "      <td>2038-01-01</td>\n",
       "      <td>2038-12-31</td>\n",
       "      <td>1586.00</td>\n",
       "      <td>US$mn/GW</td>\n",
       "      <td>{}</td>\n",
       "      <td>True</td>\n",
       "      <td>2023-08-15 18:35:00.953770</td>\n",
       "    </tr>\n",
       "    <tr>\n",
       "      <th>3</th>\n",
       "      <td>BRN</td>\n",
       "      <td>technology_parameter</td>\n",
       "      <td>power.BIO.capex</td>\n",
       "      <td>1</td>\n",
       "      <td>None</td>\n",
       "      <td>None</td>\n",
       "      <td>2037-01-01</td>\n",
       "      <td>2037-12-31</td>\n",
       "      <td>1601.50</td>\n",
       "      <td>US$mn/GW</td>\n",
       "      <td>{}</td>\n",
       "      <td>True</td>\n",
       "      <td>2023-08-15 18:35:00.954080</td>\n",
       "    </tr>\n",
       "    <tr>\n",
       "      <th>4</th>\n",
       "      <td>BRN</td>\n",
       "      <td>technology_parameter</td>\n",
       "      <td>power.BIO.capex</td>\n",
       "      <td>1</td>\n",
       "      <td>None</td>\n",
       "      <td>None</td>\n",
       "      <td>2036-01-01</td>\n",
       "      <td>2036-12-31</td>\n",
       "      <td>1617.00</td>\n",
       "      <td>US$mn/GW</td>\n",
       "      <td>{}</td>\n",
       "      <td>True</td>\n",
       "      <td>2023-08-15 18:35:00.954362</td>\n",
       "    </tr>\n",
       "    <tr>\n",
       "      <th>...</th>\n",
       "      <td>...</td>\n",
       "      <td>...</td>\n",
       "      <td>...</td>\n",
       "      <td>...</td>\n",
       "      <td>...</td>\n",
       "      <td>...</td>\n",
       "      <td>...</td>\n",
       "      <td>...</td>\n",
       "      <td>...</td>\n",
       "      <td>...</td>\n",
       "      <td>...</td>\n",
       "      <td>...</td>\n",
       "      <td>...</td>\n",
       "    </tr>\n",
       "    <tr>\n",
       "      <th>500</th>\n",
       "      <td>BRN</td>\n",
       "      <td>technology_parameter</td>\n",
       "      <td>power.URN.opmode_2.opex.variable</td>\n",
       "      <td>1</td>\n",
       "      <td>None</td>\n",
       "      <td>None</td>\n",
       "      <td>2046-01-01</td>\n",
       "      <td>2046-12-31</td>\n",
       "      <td>13.07</td>\n",
       "      <td>US$/GJ</td>\n",
       "      <td>{}</td>\n",
       "      <td>True</td>\n",
       "      <td>2023-08-15 18:35:08.574770</td>\n",
       "    </tr>\n",
       "    <tr>\n",
       "      <th>501</th>\n",
       "      <td>BRN</td>\n",
       "      <td>technology_parameter</td>\n",
       "      <td>power.URN.opmode_2.opex.variable</td>\n",
       "      <td>1</td>\n",
       "      <td>None</td>\n",
       "      <td>None</td>\n",
       "      <td>2047-01-01</td>\n",
       "      <td>2047-12-31</td>\n",
       "      <td>13.45</td>\n",
       "      <td>US$/GJ</td>\n",
       "      <td>{}</td>\n",
       "      <td>True</td>\n",
       "      <td>2023-08-15 18:35:08.575033</td>\n",
       "    </tr>\n",
       "    <tr>\n",
       "      <th>502</th>\n",
       "      <td>BRN</td>\n",
       "      <td>technology_parameter</td>\n",
       "      <td>power.URN.opmode_2.opex.variable</td>\n",
       "      <td>1</td>\n",
       "      <td>None</td>\n",
       "      <td>None</td>\n",
       "      <td>2048-01-01</td>\n",
       "      <td>2048-12-31</td>\n",
       "      <td>13.83</td>\n",
       "      <td>US$/GJ</td>\n",
       "      <td>{}</td>\n",
       "      <td>True</td>\n",
       "      <td>2023-08-15 18:35:08.575308</td>\n",
       "    </tr>\n",
       "    <tr>\n",
       "      <th>503</th>\n",
       "      <td>BRN</td>\n",
       "      <td>technology_parameter</td>\n",
       "      <td>power.URN.opmode_2.opex.variable</td>\n",
       "      <td>1</td>\n",
       "      <td>None</td>\n",
       "      <td>None</td>\n",
       "      <td>2049-01-01</td>\n",
       "      <td>2049-12-31</td>\n",
       "      <td>14.21</td>\n",
       "      <td>US$/GJ</td>\n",
       "      <td>{}</td>\n",
       "      <td>True</td>\n",
       "      <td>2023-08-15 18:35:08.575569</td>\n",
       "    </tr>\n",
       "    <tr>\n",
       "      <th>504</th>\n",
       "      <td>BRN</td>\n",
       "      <td>technology_parameter</td>\n",
       "      <td>power.URN.opmode_2.opex.variable</td>\n",
       "      <td>1</td>\n",
       "      <td>None</td>\n",
       "      <td>None</td>\n",
       "      <td>2050-01-01</td>\n",
       "      <td>2050-12-31</td>\n",
       "      <td>14.40</td>\n",
       "      <td>US$/GJ</td>\n",
       "      <td>{}</td>\n",
       "      <td>True</td>\n",
       "      <td>2023-08-15 18:35:08.575832</td>\n",
       "    </tr>\n",
       "  </tbody>\n",
       "</table>\n",
       "<p>505 rows × 13 columns</p>\n",
       "</div>"
      ],
      "text/plain": [
       "    node_id            datum_type                      datum_detail  \\\n",
       "0       BRN  technology_parameter                   power.BIO.capex   \n",
       "1       BRN  technology_parameter                   power.BIO.capex   \n",
       "2       BRN  technology_parameter                   power.BIO.capex   \n",
       "3       BRN  technology_parameter                   power.BIO.capex   \n",
       "4       BRN  technology_parameter                   power.BIO.capex   \n",
       "..      ...                   ...                               ...   \n",
       "500     BRN  technology_parameter  power.URN.opmode_2.opex.variable   \n",
       "501     BRN  technology_parameter  power.URN.opmode_2.opex.variable   \n",
       "502     BRN  technology_parameter  power.URN.opmode_2.opex.variable   \n",
       "503     BRN  technology_parameter  power.URN.opmode_2.opex.variable   \n",
       "504     BRN  technology_parameter  power.URN.opmode_2.opex.variable   \n",
       "\n",
       "     source_id source_node_id target_node_id valid_timestamp_start  \\\n",
       "0            1           None           None            2040-01-01   \n",
       "1            1           None           None            2039-01-01   \n",
       "2            1           None           None            2038-01-01   \n",
       "3            1           None           None            2037-01-01   \n",
       "4            1           None           None            2036-01-01   \n",
       "..         ...            ...            ...                   ...   \n",
       "500          1           None           None            2046-01-01   \n",
       "501          1           None           None            2047-01-01   \n",
       "502          1           None           None            2048-01-01   \n",
       "503          1           None           None            2049-01-01   \n",
       "504          1           None           None            2050-01-01   \n",
       "\n",
       "    valid_timestamp_end    value      unit properties  public  \\\n",
       "0            2050-12-31  1555.00  US$mn/GW         {}    True   \n",
       "1            2039-12-31  1570.50  US$mn/GW         {}    True   \n",
       "2            2038-12-31  1586.00  US$mn/GW         {}    True   \n",
       "3            2037-12-31  1601.50  US$mn/GW         {}    True   \n",
       "4            2036-12-31  1617.00  US$mn/GW         {}    True   \n",
       "..                  ...      ...       ...        ...     ...   \n",
       "500          2046-12-31    13.07    US$/GJ         {}    True   \n",
       "501          2047-12-31    13.45    US$/GJ         {}    True   \n",
       "502          2048-12-31    13.83    US$/GJ         {}    True   \n",
       "503          2049-12-31    14.21    US$/GJ         {}    True   \n",
       "504          2050-12-31    14.40    US$/GJ         {}    True   \n",
       "\n",
       "                     timestamp  \n",
       "0   2023-08-15 18:35:00.953050  \n",
       "1   2023-08-15 18:35:00.953462  \n",
       "2   2023-08-15 18:35:00.953770  \n",
       "3   2023-08-15 18:35:00.954080  \n",
       "4   2023-08-15 18:35:00.954362  \n",
       "..                         ...  \n",
       "500 2023-08-15 18:35:08.574770  \n",
       "501 2023-08-15 18:35:08.575033  \n",
       "502 2023-08-15 18:35:08.575308  \n",
       "503 2023-08-15 18:35:08.575569  \n",
       "504 2023-08-15 18:35:08.575832  \n",
       "\n",
       "[505 rows x 13 columns]"
      ]
     },
     "execution_count": 12,
     "metadata": {},
     "output_type": "execute_result"
    }
   ],
   "source": [
    "tech_param_result.to_dataframe()"
   ]
  },
  {
   "cell_type": "markdown",
   "metadata": {},
   "source": [
    "We can also create a `RecordCollection` from a data frame.\n",
    "\n",
    "TODO: It will validate the types of the data before creating the collection."
   ]
  },
  {
   "cell_type": "code",
   "execution_count": 13,
   "metadata": {},
   "outputs": [],
   "source": [
    "from feo.client import RecordCollection\n",
    "\n",
    "new_record_collection = RecordCollection.from_dataframe(record_df)"
   ]
  },
  {
   "cell_type": "code",
   "execution_count": 14,
   "metadata": {},
   "outputs": [
    {
     "data": {
      "text/plain": [
       "RecordCollection(records=[Record(node_id='BRN', datum_type='technology_parameter', datum_detail='power.BIO.capex', source_id=1, source_node_id=None, target_node_id=None, valid_timestamp_start='2040-01-01T00:00:00.000000', valid_timestamp_end='2050-12-31T00:00:00.000000', value=1555.0, unit='US$mn/GW', properties={}, public=True, timestamp='2023-08-15T18:35:00.953050'), Record(node_id='BRN', datum_type='technology_parameter', datum_detail='power.BIO.capex', source_id=1, source_node_id=None, target_node_id=None, valid_timestamp_start='2039-01-01T00:00:00.000000', valid_timestamp_end='2039-12-31T00:00:00.000000', value=1570.5, unit='US$mn/GW', properties={}, public=True, timestamp='2023-08-15T18:35:00.953462'), Record(node_id='BRN', datum_type='technology_parameter', datum_detail='power.BIO.capex', source_id=1, source_node_id=None, target_node_id=None, valid_timestamp_start='2038-01-01T00:00:00.000000', valid_timestamp_end='2038-12-31T00:00:00.000000', value=1586.0, unit='US$mn/GW', properties={}, public=True, timestamp='2023-08-15T18:35:00.953770'), Record(node_id='BRN', datum_type='technology_parameter', datum_detail='power.BIO.capex', source_id=1, source_node_id=None, target_node_id=None, valid_timestamp_start='2037-01-01T00:00:00.000000', valid_timestamp_end='2037-12-31T00:00:00.000000', value=1601.5, unit='US$mn/GW', properties={}, public=True, timestamp='2023-08-15T18:35:00.954080'), Record(node_id='BRN', datum_type='technology_parameter', datum_detail='power.BIO.capex', source_id=1, source_node_id=None, target_node_id=None, valid_timestamp_start='2036-01-01T00:00:00.000000', valid_timestamp_end='2036-12-31T00:00:00.000000', value=1617.0, unit='US$mn/GW', properties={}, public=True, timestamp='2023-08-15T18:35:00.954362'), Record(node_id='BRN', datum_type='technology_parameter', datum_detail='power.BIO.capex', source_id=1, source_node_id=None, target_node_id=None, valid_timestamp_start='2035-01-01T00:00:00.000000', valid_timestamp_end='2035-12-31T00:00:00.000000', value=1632.5, unit='US$mn/GW', properties={}, public=True, timestamp='2023-08-15T18:35:00.954629'), Record(node_id='BRN', datum_type='technology_parameter', datum_detail='power.BIO.capex', source_id=1, source_node_id=None, target_node_id=None, valid_timestamp_start='2034-01-01T00:00:00.000000', valid_timestamp_end='2034-12-31T00:00:00.000000', value=1648.0, unit='US$mn/GW', properties={}, public=True, timestamp='2023-08-15T18:35:00.954895'), Record(node_id='BRN', datum_type='technology_parameter', datum_detail='power.BIO.capex', source_id=1, source_node_id=None, target_node_id=None, valid_timestamp_start='2033-01-01T00:00:00.000000', valid_timestamp_end='2033-12-31T00:00:00.000000', value=1663.5, unit='US$mn/GW', properties={}, public=True, timestamp='2023-08-15T18:35:00.955163'), Record(node_id='BRN', datum_type='technology_parameter', datum_detail='power.BIO.capex', source_id=1, source_node_id=None, target_node_id=None, valid_timestamp_start='2032-01-01T00:00:00.000000', valid_timestamp_end='2032-12-31T00:00:00.000000', value=1679.0, unit='US$mn/GW', properties={}, public=True, timestamp='2023-08-15T18:35:00.955431'), Record(node_id='BRN', datum_type='technology_parameter', datum_detail='power.BIO.capex', source_id=1, source_node_id=None, target_node_id=None, valid_timestamp_start='2031-01-01T00:00:00.000000', valid_timestamp_end='2031-12-31T00:00:00.000000', value=1694.5, unit='US$mn/GW', properties={}, public=True, timestamp='2023-08-15T18:35:00.955682'), Record(node_id='BRN', datum_type='technology_parameter', datum_detail='power.BIO.capex', source_id=1, source_node_id=None, target_node_id=None, valid_timestamp_start='2021-01-01T00:00:00.000000', valid_timestamp_end='2030-12-31T00:00:00.000000', value=1710.0, unit='US$mn/GW', properties={}, public=True, timestamp='2023-08-15T18:35:00.955952')], next_page=None, search_params=None)"
      ]
     },
     "execution_count": 14,
     "metadata": {},
     "output_type": "execute_result"
    }
   ],
   "source": [
    "new_record_collection"
   ]
  },
  {
   "cell_type": "markdown",
   "metadata": {},
   "source": [
    "### Create or edit records\n",
    "\n",
    "Assuming you have the right user permissions, you can also add new records to the FEO platform."
   ]
  },
  {
   "cell_type": "code",
   "execution_count": 15,
   "metadata": {},
   "outputs": [],
   "source": [
    "record_dict = dict(\n",
    "    node_id=\"BRN\",\n",
    "    public=True,\n",
    "    source_id=1,\n",
    "    source_node_id=None,\n",
    "    target_node_id=None,\n",
    "    timestamp_start=\"2040-01-01T00:00:00\",\n",
    "    timestamp_end=\"2050-12-31T00:00:00\",\n",
    "    datum_type=\"technology_parameter\",\n",
    "    datum_detail=\"power.BIO.capex\",\n",
    "    value=1555.0,\n",
    "    unit=\"US$mn/GW\",\n",
    "    properties={},\n",
    ")"
   ]
  },
  {
   "cell_type": "code",
   "execution_count": 16,
   "metadata": {},
   "outputs": [],
   "source": [
    "my_record = Record(**record_dict)\n",
    "\n",
    "# Equivalent to:\n",
    "# my_record = Record.from_dict(record_dict)"
   ]
  },
  {
   "cell_type": "markdown",
   "metadata": {},
   "source": [
    "You can then save the record to the platform:"
   ]
  },
  {
   "cell_type": "code",
   "execution_count": 17,
   "metadata": {},
   "outputs": [],
   "source": [
    "# TODO:\n",
    "# my_record.save()"
   ]
  },
  {
   "cell_type": "code",
   "execution_count": null,
   "metadata": {},
   "outputs": [],
   "source": []
  }
 ],
 "metadata": {
  "kernelspec": {
   "display_name": ".venv",
   "language": "python",
   "name": "python3"
  },
  "language_info": {
   "codemirror_mode": {
    "name": "ipython",
    "version": 3
   },
   "file_extension": ".py",
   "mimetype": "text/x-python",
   "name": "python",
   "nbconvert_exporter": "python",
   "pygments_lexer": "ipython3",
   "version": "3.11.3"
  },
  "orig_nbformat": 4
 },
 "nbformat": 4,
 "nbformat_minor": 2
}
